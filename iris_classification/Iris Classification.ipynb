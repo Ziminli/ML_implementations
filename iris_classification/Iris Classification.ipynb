{
 "cells": [
  {
   "cell_type": "markdown",
   "metadata": {},
   "source": [
    "# Iris Classification"
   ]
  },
  {
   "cell_type": "markdown",
   "metadata": {},
   "source": [
    "## Importing libraries"
   ]
  },
  {
   "cell_type": "code",
   "execution_count": 1,
   "metadata": {},
   "outputs": [
    {
     "data": {
      "text/plain": [
       "'2.3.0'"
      ]
     },
     "execution_count": 1,
     "metadata": {},
     "output_type": "execute_result"
    }
   ],
   "source": [
    "import os\n",
    "import numpy as np\n",
    "import pandas as pd\n",
    "import matplotlib.pyplot as plt\n",
    "import tensorflow as tf\n",
    "\n",
    "from tensorflow import keras\n",
    "from sklearn.model_selection import train_test_split\n",
    "\n",
    "tf.__version__\n",
    "#os.listdir()"
   ]
  },
  {
   "cell_type": "markdown",
   "metadata": {},
   "source": [
    "## Data Preprocessing"
   ]
  },
  {
   "cell_type": "code",
   "execution_count": 2,
   "metadata": {},
   "outputs": [],
   "source": [
    "COLUMN_NAMES = ['SepalLength', 'SepalWidth', 'PetalLength', 'PetalWidth', 'Species']\n",
    "LABELS = {}\n",
    "features = COLUMN_NAMES[:-1]"
   ]
  },
  {
   "cell_type": "code",
   "execution_count": 3,
   "metadata": {},
   "outputs": [
    {
     "data": {
      "text/html": [
       "<div>\n",
       "<style scoped>\n",
       "    .dataframe tbody tr th:only-of-type {\n",
       "        vertical-align: middle;\n",
       "    }\n",
       "\n",
       "    .dataframe tbody tr th {\n",
       "        vertical-align: top;\n",
       "    }\n",
       "\n",
       "    .dataframe thead th {\n",
       "        text-align: right;\n",
       "    }\n",
       "</style>\n",
       "<table border=\"1\" class=\"dataframe\">\n",
       "  <thead>\n",
       "    <tr style=\"text-align: right;\">\n",
       "      <th></th>\n",
       "      <th>SepalLength</th>\n",
       "      <th>SepalWidth</th>\n",
       "      <th>PetalLength</th>\n",
       "      <th>PetalWidth</th>\n",
       "      <th>Species</th>\n",
       "    </tr>\n",
       "  </thead>\n",
       "  <tbody>\n",
       "    <tr>\n",
       "      <th>0</th>\n",
       "      <td>4.9</td>\n",
       "      <td>3.0</td>\n",
       "      <td>1.4</td>\n",
       "      <td>0.2</td>\n",
       "      <td>Iris-setosa</td>\n",
       "    </tr>\n",
       "    <tr>\n",
       "      <th>1</th>\n",
       "      <td>4.7</td>\n",
       "      <td>3.2</td>\n",
       "      <td>1.3</td>\n",
       "      <td>0.2</td>\n",
       "      <td>Iris-setosa</td>\n",
       "    </tr>\n",
       "    <tr>\n",
       "      <th>2</th>\n",
       "      <td>4.6</td>\n",
       "      <td>3.1</td>\n",
       "      <td>1.5</td>\n",
       "      <td>0.2</td>\n",
       "      <td>Iris-setosa</td>\n",
       "    </tr>\n",
       "    <tr>\n",
       "      <th>3</th>\n",
       "      <td>5.0</td>\n",
       "      <td>3.6</td>\n",
       "      <td>1.4</td>\n",
       "      <td>0.2</td>\n",
       "      <td>Iris-setosa</td>\n",
       "    </tr>\n",
       "    <tr>\n",
       "      <th>4</th>\n",
       "      <td>5.4</td>\n",
       "      <td>3.9</td>\n",
       "      <td>1.7</td>\n",
       "      <td>0.4</td>\n",
       "      <td>Iris-setosa</td>\n",
       "    </tr>\n",
       "  </tbody>\n",
       "</table>\n",
       "</div>"
      ],
      "text/plain": [
       "   SepalLength  SepalWidth  PetalLength  PetalWidth      Species\n",
       "0          4.9         3.0          1.4         0.2  Iris-setosa\n",
       "1          4.7         3.2          1.3         0.2  Iris-setosa\n",
       "2          4.6         3.1          1.5         0.2  Iris-setosa\n",
       "3          5.0         3.6          1.4         0.2  Iris-setosa\n",
       "4          5.4         3.9          1.7         0.4  Iris-setosa"
      ]
     },
     "execution_count": 3,
     "metadata": {},
     "output_type": "execute_result"
    }
   ],
   "source": [
    "df = pd.read_csv('iris_training.csv', names = COLUMN_NAMES, header = 0)\n",
    "df.head()"
   ]
  },
  {
   "cell_type": "code",
   "execution_count": 4,
   "metadata": {},
   "outputs": [
    {
     "name": "stdout",
     "output_type": "stream",
     "text": [
      "{'Iris-versicolor': 0, 'Iris-virginica': 1, 'Iris-setosa': 2}\n"
     ]
    }
   ],
   "source": [
    "for i, label in enumerate(set(df['Species'])):\n",
    "    LABELS[label] = i\n",
    "print(LABELS)\n",
    "\n",
    "y = df.pop('Species')"
   ]
  },
  {
   "cell_type": "code",
   "execution_count": 5,
   "metadata": {},
   "outputs": [
    {
     "name": "stdout",
     "output_type": "stream",
     "text": [
      "[2, 2, 2, 2, 2, 2, 2, 2, 2, 2, 2, 2, 2, 2, 2, 2, 2, 2, 2, 2, 2, 2, 2, 2, 2, 2, 2, 2, 2, 2, 2, 2, 2, 2, 2, 2, 2, 2, 2, 2, 2, 2, 2, 2, 2, 2, 2, 2, 2, 0, 0, 0, 0, 0, 0, 0, 0, 0, 0, 0, 0, 0, 0, 0, 0, 0, 0, 0, 0, 0, 0, 0, 0, 0, 0, 0, 0, 0, 0, 0, 0, 0, 0, 0, 0, 0, 0, 0, 0, 0, 0, 0, 0, 0, 0, 0, 0, 0, 0, 1, 1, 1, 1, 1, 1, 1, 1, 1, 1, 1, 1, 1, 1, 1, 1, 1, 1, 1, 1, 1, 1, 1, 1, 1, 1, 1, 1, 1, 1, 1, 1, 1, 1, 1, 1, 1, 1, 1, 1, 1, 1, 1, 1, 1, 1, 1, 1, 1, 1]\n"
     ]
    },
    {
     "data": {
      "text/html": [
       "<div>\n",
       "<style scoped>\n",
       "    .dataframe tbody tr th:only-of-type {\n",
       "        vertical-align: middle;\n",
       "    }\n",
       "\n",
       "    .dataframe tbody tr th {\n",
       "        vertical-align: top;\n",
       "    }\n",
       "\n",
       "    .dataframe thead th {\n",
       "        text-align: right;\n",
       "    }\n",
       "</style>\n",
       "<table border=\"1\" class=\"dataframe\">\n",
       "  <thead>\n",
       "    <tr style=\"text-align: right;\">\n",
       "      <th></th>\n",
       "      <th>SepalLength</th>\n",
       "      <th>SepalWidth</th>\n",
       "      <th>PetalLength</th>\n",
       "      <th>PetalWidth</th>\n",
       "    </tr>\n",
       "  </thead>\n",
       "  <tbody>\n",
       "    <tr>\n",
       "      <th>0</th>\n",
       "      <td>4.9</td>\n",
       "      <td>3.0</td>\n",
       "      <td>1.4</td>\n",
       "      <td>0.2</td>\n",
       "    </tr>\n",
       "    <tr>\n",
       "      <th>1</th>\n",
       "      <td>4.7</td>\n",
       "      <td>3.2</td>\n",
       "      <td>1.3</td>\n",
       "      <td>0.2</td>\n",
       "    </tr>\n",
       "  </tbody>\n",
       "</table>\n",
       "</div>"
      ],
      "text/plain": [
       "   SepalLength  SepalWidth  PetalLength  PetalWidth\n",
       "0          4.9         3.0          1.4         0.2\n",
       "1          4.7         3.2          1.3         0.2"
      ]
     },
     "execution_count": 5,
     "metadata": {},
     "output_type": "execute_result"
    }
   ],
   "source": [
    "def str2label(s):\n",
    "    return LABELS[s]\n",
    "\n",
    "y = list(map(lambda s: str2label(s), y))\n",
    "print(y)\n",
    "\n",
    "df[:2]"
   ]
  },
  {
   "cell_type": "code",
   "execution_count": 6,
   "metadata": {},
   "outputs": [
    {
     "data": {
      "text/html": [
       "<div>\n",
       "<style scoped>\n",
       "    .dataframe tbody tr th:only-of-type {\n",
       "        vertical-align: middle;\n",
       "    }\n",
       "\n",
       "    .dataframe tbody tr th {\n",
       "        vertical-align: top;\n",
       "    }\n",
       "\n",
       "    .dataframe thead th {\n",
       "        text-align: right;\n",
       "    }\n",
       "</style>\n",
       "<table border=\"1\" class=\"dataframe\">\n",
       "  <thead>\n",
       "    <tr style=\"text-align: right;\">\n",
       "      <th></th>\n",
       "      <th>SepalLength</th>\n",
       "      <th>SepalWidth</th>\n",
       "      <th>PetalLength</th>\n",
       "      <th>PetalWidth</th>\n",
       "    </tr>\n",
       "  </thead>\n",
       "  <tbody>\n",
       "    <tr>\n",
       "      <th>count</th>\n",
       "      <td>149.000000</td>\n",
       "      <td>149.000000</td>\n",
       "      <td>149.000000</td>\n",
       "      <td>149.000000</td>\n",
       "    </tr>\n",
       "    <tr>\n",
       "      <th>mean</th>\n",
       "      <td>5.848322</td>\n",
       "      <td>3.051007</td>\n",
       "      <td>3.774497</td>\n",
       "      <td>1.205369</td>\n",
       "    </tr>\n",
       "    <tr>\n",
       "      <th>std</th>\n",
       "      <td>0.828594</td>\n",
       "      <td>0.433499</td>\n",
       "      <td>1.759651</td>\n",
       "      <td>0.761292</td>\n",
       "    </tr>\n",
       "    <tr>\n",
       "      <th>min</th>\n",
       "      <td>4.300000</td>\n",
       "      <td>2.000000</td>\n",
       "      <td>1.000000</td>\n",
       "      <td>0.100000</td>\n",
       "    </tr>\n",
       "    <tr>\n",
       "      <th>25%</th>\n",
       "      <td>5.100000</td>\n",
       "      <td>2.800000</td>\n",
       "      <td>1.600000</td>\n",
       "      <td>0.300000</td>\n",
       "    </tr>\n",
       "    <tr>\n",
       "      <th>50%</th>\n",
       "      <td>5.800000</td>\n",
       "      <td>3.000000</td>\n",
       "      <td>4.400000</td>\n",
       "      <td>1.300000</td>\n",
       "    </tr>\n",
       "    <tr>\n",
       "      <th>75%</th>\n",
       "      <td>6.400000</td>\n",
       "      <td>3.300000</td>\n",
       "      <td>5.100000</td>\n",
       "      <td>1.800000</td>\n",
       "    </tr>\n",
       "    <tr>\n",
       "      <th>max</th>\n",
       "      <td>7.900000</td>\n",
       "      <td>4.400000</td>\n",
       "      <td>6.900000</td>\n",
       "      <td>2.500000</td>\n",
       "    </tr>\n",
       "  </tbody>\n",
       "</table>\n",
       "</div>"
      ],
      "text/plain": [
       "       SepalLength  SepalWidth  PetalLength  PetalWidth\n",
       "count   149.000000  149.000000   149.000000  149.000000\n",
       "mean      5.848322    3.051007     3.774497    1.205369\n",
       "std       0.828594    0.433499     1.759651    0.761292\n",
       "min       4.300000    2.000000     1.000000    0.100000\n",
       "25%       5.100000    2.800000     1.600000    0.300000\n",
       "50%       5.800000    3.000000     4.400000    1.300000\n",
       "75%       6.400000    3.300000     5.100000    1.800000\n",
       "max       7.900000    4.400000     6.900000    2.500000"
      ]
     },
     "execution_count": 6,
     "metadata": {},
     "output_type": "execute_result"
    }
   ],
   "source": [
    "desc = df.describe()\n",
    "desc"
   ]
  },
  {
   "cell_type": "code",
   "execution_count": 7,
   "metadata": {},
   "outputs": [
    {
     "data": {
      "text/html": [
       "<div>\n",
       "<style scoped>\n",
       "    .dataframe tbody tr th:only-of-type {\n",
       "        vertical-align: middle;\n",
       "    }\n",
       "\n",
       "    .dataframe tbody tr th {\n",
       "        vertical-align: top;\n",
       "    }\n",
       "\n",
       "    .dataframe thead th {\n",
       "        text-align: right;\n",
       "    }\n",
       "</style>\n",
       "<table border=\"1\" class=\"dataframe\">\n",
       "  <thead>\n",
       "    <tr style=\"text-align: right;\">\n",
       "      <th></th>\n",
       "      <th>SepalLength</th>\n",
       "      <th>SepalWidth</th>\n",
       "      <th>PetalLength</th>\n",
       "      <th>PetalWidth</th>\n",
       "    </tr>\n",
       "  </thead>\n",
       "  <tbody>\n",
       "    <tr>\n",
       "      <th>count</th>\n",
       "      <td>1.490000e+02</td>\n",
       "      <td>1.490000e+02</td>\n",
       "      <td>1.490000e+02</td>\n",
       "      <td>1.490000e+02</td>\n",
       "    </tr>\n",
       "    <tr>\n",
       "      <th>mean</th>\n",
       "      <td>-2.019684e-15</td>\n",
       "      <td>-1.929478e-15</td>\n",
       "      <td>-1.394857e-15</td>\n",
       "      <td>-1.182499e-15</td>\n",
       "    </tr>\n",
       "    <tr>\n",
       "      <th>std</th>\n",
       "      <td>1.000000e+00</td>\n",
       "      <td>1.000000e+00</td>\n",
       "      <td>1.000000e+00</td>\n",
       "      <td>1.000000e+00</td>\n",
       "    </tr>\n",
       "    <tr>\n",
       "      <th>min</th>\n",
       "      <td>-1.868614e+00</td>\n",
       "      <td>-2.424474e+00</td>\n",
       "      <td>-1.576731e+00</td>\n",
       "      <td>-1.451965e+00</td>\n",
       "    </tr>\n",
       "    <tr>\n",
       "      <th>25%</th>\n",
       "      <td>-9.031228e-01</td>\n",
       "      <td>-5.790251e-01</td>\n",
       "      <td>-1.235754e+00</td>\n",
       "      <td>-1.189253e+00</td>\n",
       "    </tr>\n",
       "    <tr>\n",
       "      <th>50%</th>\n",
       "      <td>-5.831824e-02</td>\n",
       "      <td>-1.176628e-01</td>\n",
       "      <td>3.554701e-01</td>\n",
       "      <td>1.243030e-01</td>\n",
       "    </tr>\n",
       "    <tr>\n",
       "      <th>75%</th>\n",
       "      <td>6.657999e-01</td>\n",
       "      <td>5.743805e-01</td>\n",
       "      <td>7.532762e-01</td>\n",
       "      <td>7.810812e-01</td>\n",
       "    </tr>\n",
       "    <tr>\n",
       "      <th>max</th>\n",
       "      <td>2.476095e+00</td>\n",
       "      <td>3.111873e+00</td>\n",
       "      <td>1.776206e+00</td>\n",
       "      <td>1.700571e+00</td>\n",
       "    </tr>\n",
       "  </tbody>\n",
       "</table>\n",
       "</div>"
      ],
      "text/plain": [
       "        SepalLength    SepalWidth   PetalLength    PetalWidth\n",
       "count  1.490000e+02  1.490000e+02  1.490000e+02  1.490000e+02\n",
       "mean  -2.019684e-15 -1.929478e-15 -1.394857e-15 -1.182499e-15\n",
       "std    1.000000e+00  1.000000e+00  1.000000e+00  1.000000e+00\n",
       "min   -1.868614e+00 -2.424474e+00 -1.576731e+00 -1.451965e+00\n",
       "25%   -9.031228e-01 -5.790251e-01 -1.235754e+00 -1.189253e+00\n",
       "50%   -5.831824e-02 -1.176628e-01  3.554701e-01  1.243030e-01\n",
       "75%    6.657999e-01  5.743805e-01  7.532762e-01  7.810812e-01\n",
       "max    2.476095e+00  3.111873e+00  1.776206e+00  1.700571e+00"
      ]
     },
     "execution_count": 7,
     "metadata": {},
     "output_type": "execute_result"
    }
   ],
   "source": [
    "MEAN = np.array(desc.T['mean'])\n",
    "STD = np.array(desc.T['std'])\n",
    "\n",
    "def normalize(df, MEAN, STD):\n",
    "    for i, feature in enumerate(features):\n",
    "        feature = str(feature)\n",
    "        df[feature] = (df[feature] - MEAN[i]) / STD[i]\n",
    "    return df\n",
    "        \n",
    "df = normalize(df, MEAN, STD)\n",
    "df.describe()"
   ]
  },
  {
   "cell_type": "code",
   "execution_count": 8,
   "metadata": {},
   "outputs": [
    {
     "name": "stdout",
     "output_type": "stream",
     "text": [
      "Training: 119, Validation: 15, Test: 15\n"
     ]
    }
   ],
   "source": [
    "X_train, X_test, y_train, y_test = train_test_split(df, y, test_size=0.2)\n",
    "X_val, X_test, y_val, y_test = train_test_split(X_test, y_test, test_size=0.5)\n",
    "\n",
    "print('Training: {}, Validation: {}, Test: {}'.format(X_train.shape[0], X_val.shape[0], X_test.shape[0]))"
   ]
  },
  {
   "cell_type": "code",
   "execution_count": 9,
   "metadata": {},
   "outputs": [
    {
     "name": "stdout",
     "output_type": "stream",
     "text": [
      "3\n"
     ]
    }
   ],
   "source": [
    "N_TRAIN = X_train.shape[0]\n",
    "BATCH_SIZE = 32\n",
    "STEPS = N_TRAIN // BATCH_SIZE\n",
    "print(STEPS)"
   ]
  },
  {
   "cell_type": "code",
   "execution_count": 10,
   "metadata": {},
   "outputs": [],
   "source": [
    "def dataframe_to_dataset(df, y, shuffle = True, repeat = False, batch_size = BATCH_SIZE):\n",
    "    df = df.copy()\n",
    "    ds = tf.data.Dataset.from_tensor_slices((dict(df), y))\n",
    "    if shuffle:\n",
    "        ds = ds.shuffle(buffer_size = len(df)) \n",
    "    ds = ds.batch(batch_size)\n",
    "    if repeat:\n",
    "        ds = ds.repeat()\n",
    "    \n",
    "    return ds"
   ]
  },
  {
   "cell_type": "code",
   "execution_count": 11,
   "metadata": {},
   "outputs": [
    {
     "name": "stdout",
     "output_type": "stream",
     "text": [
      "train_ds.cardinality: -1\n",
      "val_ds.cardinality: 1\n",
      "test_ds.cardinality: 1\n",
      "Every feature: ['SepalLength', 'SepalWidth', 'PetalLength', 'PetalWidth']\n",
      "A batch of SepalLength: tf.Tensor(\n",
      "[-1.62724091  1.63129079  0.06236812 -0.42037732 -1.50655455  1.02785899\n",
      "  2.23472258 -1.02380911 -1.74792727 -1.26518183 -0.54106368  0.78648627\n",
      "  0.78648627  0.54511356  0.54511356 -0.7824364   0.66579991 -0.7824364\n",
      "  1.38991807 -1.26518183  0.66579991  0.78648627  1.75197715  0.4244272\n",
      "  1.02785899  0.66579991 -0.05831824 -0.1790046  -1.26518183 -0.29969096\n",
      " -0.1790046  -1.74792727], shape=(32,), dtype=float64)\n",
      "A batch of targets: tf.Tensor([2 1 1 0 2 0 1 2 2 2 2 1 1 1 1 2 0 2 0 2 1 1 1 1 0 0 1 0 2 1 1 2], shape=(32,), dtype=int32)\n"
     ]
    }
   ],
   "source": [
    "train_ds = dataframe_to_dataset(X_train, y_train, repeat = True)\n",
    "val_ds = dataframe_to_dataset(X_val, y_val)\n",
    "test_ds = dataframe_to_dataset(X_test, y_test)\n",
    "\n",
    "print('train_ds.cardinality:', train_ds.cardinality().numpy())\n",
    "print('val_ds.cardinality:', val_ds.cardinality().numpy())\n",
    "print('test_ds.cardinality:', test_ds.cardinality().numpy())\n",
    "\n",
    "# Viewing the a batch of training example\n",
    "for feature_batch, label_batch in train_ds.take(1):\n",
    "    print('Every feature:', list(feature_batch.keys()))\n",
    "    print('A batch of SepalLength:', feature_batch['SepalLength'])\n",
    "    print('A batch of targets:', label_batch)"
   ]
  },
  {
   "cell_type": "markdown",
   "metadata": {},
   "source": [
    "### Visualizing Data"
   ]
  },
  {
   "cell_type": "code",
   "execution_count": 12,
   "metadata": {},
   "outputs": [
    {
     "data": {
      "image/png": "[encoded data removed]",
      "text/plain": [
       "<Figure size 864x288 with 2 Axes>"
      ]
     },
     "metadata": {
      "needs_background": "light"
     },
     "output_type": "display_data"
    }
   ],
   "source": [
    "features, labels = next(iter(train_ds))\n",
    "\n",
    "plt.figure(figsize=(12, 4))\n",
    "plt.subplot(1,2,1)\n",
    "plt.scatter(features['PetalLength'],\n",
    "            features['SepalLength'],\n",
    "            c=labels,\n",
    "            cmap='jet')\n",
    "\n",
    "plt.xlabel(\"Petal length\")\n",
    "plt.ylabel(\"Sepal length\")\n",
    "plt.grid()\n",
    "\n",
    "plt.subplot(1,2,2)\n",
    "plt.scatter(features['PetalWidth'],\n",
    "           features['SepalWidth'],\n",
    "           c = labels,\n",
    "           cmap = 'jet')\n",
    "plt.xlabel(\"Petal Width\")\n",
    "plt.ylabel(\"Sepal Width\")\n",
    "plt.grid()\n",
    "\n",
    "plt.show()"
   ]
  },
  {
   "cell_type": "code",
   "execution_count": 13,
   "metadata": {},
   "outputs": [],
   "source": [
    "def pack_features_vector(features, labels):\n",
    "    features = tf.stack(list(features.values()), axis=1)\n",
    "    return features, labels\n",
    "\n",
    "train_ds = train_ds.map(pack_features_vector)\n",
    "val_ds = val_ds.map(pack_features_vector)\n",
    "test_ds = test_ds.map(pack_features_vector)"
   ]
  },
  {
   "cell_type": "markdown",
   "metadata": {},
   "source": [
    "### Model Building"
   ]
  },
  {
   "cell_type": "code",
   "execution_count": 14,
   "metadata": {},
   "outputs": [],
   "source": [
    "model = keras.models.Sequential([\n",
    "    keras.layers.Dense(32, activation = 'relu', input_shape = (4,), kernel_regularizer = keras.regularizers.l2(0.0001)),\n",
    "    keras.layers.Dropout(0.1),\n",
    "    keras.layers.Dense(32, activation = 'relu', kernel_regularizer = keras.regularizers.l2(0.0001)),\n",
    "    keras.layers.Dropout(0.1),\n",
    "    keras.layers.Dense(8, activation = 'relu'),\n",
    "    keras.layers.Dense(3)\n",
    "])"
   ]
  },
  {
   "cell_type": "code",
   "execution_count": 15,
   "metadata": {},
   "outputs": [
    {
     "name": "stdout",
     "output_type": "stream",
     "text": [
      "Model: \"sequential\"\n",
      "_________________________________________________________________\n",
      "Layer (type)                 Output Shape              Param #   \n",
      "=================================================================\n",
      "dense (Dense)                (None, 32)                160       \n",
      "_________________________________________________________________\n",
      "dropout (Dropout)            (None, 32)                0         \n",
      "_________________________________________________________________\n",
      "dense_1 (Dense)              (None, 32)                1056      \n",
      "_________________________________________________________________\n",
      "dropout_1 (Dropout)          (None, 32)                0         \n",
      "_________________________________________________________________\n",
      "dense_2 (Dense)              (None, 8)                 264       \n",
      "_________________________________________________________________\n",
      "dense_3 (Dense)              (None, 3)                 27        \n",
      "=================================================================\n",
      "Total params: 1,507\n",
      "Trainable params: 1,507\n",
      "Non-trainable params: 0\n",
      "_________________________________________________________________\n"
     ]
    }
   ],
   "source": [
    "model.compile(loss = keras.losses.SparseCategoricalCrossentropy(from_logits = True), \\\n",
    "              optimizer = 'adam', metrics = ['accuracy'])\n",
    "model.summary()"
   ]
  },
  {
   "cell_type": "markdown",
   "metadata": {},
   "source": [
    "## Training"
   ]
  },
  {
   "cell_type": "code",
   "execution_count": 16,
   "metadata": {},
   "outputs": [
    {
     "name": "stdout",
     "output_type": "stream",
     "text": [
      "Epoch 1/150\n",
      "3/3 - 0s - loss: 1.1131 - accuracy: 0.2917 - val_loss: 1.1057 - val_accuracy: 0.1333\n",
      "Epoch 2/150\n",
      "3/3 - 0s - loss: 1.0896 - accuracy: 0.3448 - val_loss: 1.0988 - val_accuracy: 0.1333\n",
      "Epoch 3/150\n",
      "3/3 - 0s - loss: 1.0835 - accuracy: 0.4138 - val_loss: 1.0913 - val_accuracy: 0.1333\n",
      "Epoch 4/150\n",
      "3/3 - 0s - loss: 1.0552 - accuracy: 0.4713 - val_loss: 1.0696 - val_accuracy: 0.2000\n",
      "Epoch 5/150\n",
      "3/3 - 0s - loss: 1.0419 - accuracy: 0.5521 - val_loss: 1.0352 - val_accuracy: 0.6667\n",
      "Epoch 6/150\n",
      "3/3 - 0s - loss: 1.0349 - accuracy: 0.5747 - val_loss: 1.0003 - val_accuracy: 0.7333\n",
      "Epoch 7/150\n",
      "3/3 - 0s - loss: 0.9979 - accuracy: 0.6897 - val_loss: 0.9588 - val_accuracy: 0.7333\n",
      "Epoch 8/150\n",
      "3/3 - 0s - loss: 0.9730 - accuracy: 0.6552 - val_loss: 0.9166 - val_accuracy: 0.7333\n",
      "Epoch 9/150\n",
      "3/3 - 0s - loss: 0.9452 - accuracy: 0.7083 - val_loss: 0.8736 - val_accuracy: 0.7333\n",
      "Epoch 10/150\n",
      "3/3 - 0s - loss: 0.9174 - accuracy: 0.7011 - val_loss: 0.8321 - val_accuracy: 0.7333\n",
      "Epoch 11/150\n",
      "3/3 - 0s - loss: 0.9116 - accuracy: 0.6092 - val_loss: 0.7923 - val_accuracy: 0.7333\n",
      "Epoch 12/150\n",
      "3/3 - 0s - loss: 0.8644 - accuracy: 0.7011 - val_loss: 0.7534 - val_accuracy: 0.7333\n",
      "Epoch 13/150\n",
      "3/3 - 0s - loss: 0.8606 - accuracy: 0.6562 - val_loss: 0.7149 - val_accuracy: 0.7333\n",
      "Epoch 14/150\n",
      "3/3 - 0s - loss: 0.8039 - accuracy: 0.6667 - val_loss: 0.6776 - val_accuracy: 0.7333\n",
      "Epoch 15/150\n",
      "3/3 - 0s - loss: 0.8076 - accuracy: 0.7011 - val_loss: 0.6428 - val_accuracy: 0.7333\n",
      "Epoch 16/150\n",
      "3/3 - 0s - loss: 0.7668 - accuracy: 0.7011 - val_loss: 0.6112 - val_accuracy: 0.7333\n",
      "Epoch 17/150\n",
      "3/3 - 0s - loss: 0.7139 - accuracy: 0.7396 - val_loss: 0.5827 - val_accuracy: 0.7333\n",
      "Epoch 18/150\n",
      "3/3 - 0s - loss: 0.7551 - accuracy: 0.6897 - val_loss: 0.5575 - val_accuracy: 0.8000\n",
      "Epoch 19/150\n",
      "3/3 - 0s - loss: 0.6492 - accuracy: 0.7356 - val_loss: 0.5347 - val_accuracy: 0.8000\n",
      "Epoch 20/150\n",
      "3/3 - 0s - loss: 0.6915 - accuracy: 0.7011 - val_loss: 0.5145 - val_accuracy: 0.8000\n",
      "Epoch 21/150\n",
      "3/3 - 0s - loss: 0.6939 - accuracy: 0.6562 - val_loss: 0.4966 - val_accuracy: 0.8000\n",
      "Epoch 22/150\n",
      "3/3 - 0s - loss: 0.5954 - accuracy: 0.7241 - val_loss: 0.4802 - val_accuracy: 0.8667\n",
      "Epoch 23/150\n",
      "3/3 - 0s - loss: 0.6470 - accuracy: 0.6897 - val_loss: 0.4654 - val_accuracy: 0.8667\n",
      "Epoch 24/150\n",
      "3/3 - 0s - loss: 0.5405 - accuracy: 0.7701 - val_loss: 0.4526 - val_accuracy: 0.8667\n",
      "Epoch 25/150\n",
      "3/3 - 0s - loss: 0.5892 - accuracy: 0.7396 - val_loss: 0.4411 - val_accuracy: 0.8667\n",
      "Epoch 26/150\n",
      "3/3 - 0s - loss: 0.5777 - accuracy: 0.6667 - val_loss: 0.4305 - val_accuracy: 0.8667\n",
      "Epoch 27/150\n",
      "3/3 - 0s - loss: 0.5618 - accuracy: 0.7586 - val_loss: 0.4209 - val_accuracy: 0.9333\n",
      "Epoch 28/150\n",
      "3/3 - 0s - loss: 0.5087 - accuracy: 0.7816 - val_loss: 0.4118 - val_accuracy: 0.9333\n",
      "Epoch 29/150\n",
      "3/3 - 0s - loss: 0.5135 - accuracy: 0.7604 - val_loss: 0.4028 - val_accuracy: 0.9333\n",
      "Epoch 30/150\n",
      "3/3 - 0s - loss: 0.5898 - accuracy: 0.6437 - val_loss: 0.3946 - val_accuracy: 0.9333\n",
      "Epoch 31/150\n",
      "3/3 - 0s - loss: 0.4812 - accuracy: 0.8161 - val_loss: 0.3863 - val_accuracy: 0.9333\n",
      "Epoch 32/150\n",
      "3/3 - 0s - loss: 0.4985 - accuracy: 0.7701 - val_loss: 0.3780 - val_accuracy: 0.9333\n",
      "Epoch 33/150\n",
      "3/3 - 0s - loss: 0.4831 - accuracy: 0.8021 - val_loss: 0.3699 - val_accuracy: 0.9333\n",
      "Epoch 34/150\n",
      "3/3 - 0s - loss: 0.5282 - accuracy: 0.7701 - val_loss: 0.3611 - val_accuracy: 0.9333\n",
      "Epoch 35/150\n",
      "3/3 - 0s - loss: 0.4779 - accuracy: 0.7356 - val_loss: 0.3526 - val_accuracy: 0.9333\n",
      "Epoch 36/150\n",
      "3/3 - 0s - loss: 0.4751 - accuracy: 0.8046 - val_loss: 0.3438 - val_accuracy: 0.9333\n",
      "Epoch 37/150\n",
      "3/3 - 0s - loss: 0.4535 - accuracy: 0.7917 - val_loss: 0.3355 - val_accuracy: 0.9333\n",
      "Epoch 38/150\n",
      "3/3 - 0s - loss: 0.4838 - accuracy: 0.8161 - val_loss: 0.3269 - val_accuracy: 0.9333\n",
      "Epoch 39/150\n",
      "3/3 - 0s - loss: 0.4905 - accuracy: 0.7471 - val_loss: 0.3186 - val_accuracy: 0.9333\n",
      "Epoch 40/150\n",
      "3/3 - 0s - loss: 0.4103 - accuracy: 0.8276 - val_loss: 0.3106 - val_accuracy: 0.9333\n",
      "Epoch 41/150\n",
      "3/3 - 0s - loss: 0.4223 - accuracy: 0.8229 - val_loss: 0.3030 - val_accuracy: 0.9333\n",
      "Epoch 42/150\n",
      "3/3 - 0s - loss: 0.4324 - accuracy: 0.8391 - val_loss: 0.2940 - val_accuracy: 0.9333\n",
      "Epoch 43/150\n",
      "3/3 - 0s - loss: 0.3827 - accuracy: 0.8736 - val_loss: 0.2847 - val_accuracy: 0.9333\n",
      "Epoch 44/150\n",
      "3/3 - 0s - loss: 0.4565 - accuracy: 0.7931 - val_loss: 0.2763 - val_accuracy: 0.9333\n",
      "Epoch 45/150\n",
      "3/3 - 0s - loss: 0.4274 - accuracy: 0.8333 - val_loss: 0.2678 - val_accuracy: 0.9333\n",
      "Epoch 46/150\n",
      "3/3 - 0s - loss: 0.3734 - accuracy: 0.8621 - val_loss: 0.2606 - val_accuracy: 0.9333\n",
      "Epoch 47/150\n",
      "3/3 - 0s - loss: 0.4173 - accuracy: 0.8391 - val_loss: 0.2533 - val_accuracy: 0.9333\n",
      "Epoch 48/150\n",
      "3/3 - 0s - loss: 0.3689 - accuracy: 0.8851 - val_loss: 0.2460 - val_accuracy: 0.9333\n",
      "Epoch 49/150\n",
      "3/3 - 0s - loss: 0.3645 - accuracy: 0.8438 - val_loss: 0.2387 - val_accuracy: 0.9333\n",
      "Epoch 50/150\n",
      "3/3 - 0s - loss: 0.3520 - accuracy: 0.8391 - val_loss: 0.2317 - val_accuracy: 0.9333\n",
      "Epoch 51/150\n",
      "3/3 - 0s - loss: 0.3757 - accuracy: 0.8736 - val_loss: 0.2246 - val_accuracy: 0.9333\n",
      "Epoch 52/150\n",
      "3/3 - 0s - loss: 0.3459 - accuracy: 0.8506 - val_loss: 0.2178 - val_accuracy: 0.9333\n",
      "Epoch 53/150\n",
      "3/3 - 0s - loss: 0.3526 - accuracy: 0.8646 - val_loss: 0.2108 - val_accuracy: 0.9333\n",
      "Epoch 54/150\n",
      "3/3 - 0s - loss: 0.3228 - accuracy: 0.8851 - val_loss: 0.2040 - val_accuracy: 0.9333\n",
      "Epoch 55/150\n",
      "3/3 - 0s - loss: 0.3474 - accuracy: 0.8736 - val_loss: 0.1976 - val_accuracy: 0.9333\n",
      "Epoch 56/150\n",
      "3/3 - 0s - loss: 0.3454 - accuracy: 0.8736 - val_loss: 0.1915 - val_accuracy: 0.9333\n",
      "Epoch 57/150\n",
      "3/3 - 0s - loss: 0.2864 - accuracy: 0.8958 - val_loss: 0.1852 - val_accuracy: 0.9333\n",
      "Epoch 58/150\n",
      "3/3 - 0s - loss: 0.3110 - accuracy: 0.8966 - val_loss: 0.1786 - val_accuracy: 0.9333\n",
      "Epoch 59/150\n",
      "3/3 - 0s - loss: 0.3067 - accuracy: 0.8506 - val_loss: 0.1731 - val_accuracy: 0.9333\n",
      "Epoch 60/150\n",
      "3/3 - 0s - loss: 0.3223 - accuracy: 0.9080 - val_loss: 0.1680 - val_accuracy: 0.9333\n",
      "Epoch 61/150\n",
      "3/3 - 0s - loss: 0.2929 - accuracy: 0.8958 - val_loss: 0.1628 - val_accuracy: 1.0000\n",
      "Epoch 62/150\n",
      "3/3 - 0s - loss: 0.2388 - accuracy: 0.9770 - val_loss: 0.1577 - val_accuracy: 1.0000\n",
      "Epoch 63/150\n",
      "3/3 - 0s - loss: 0.2835 - accuracy: 0.9080 - val_loss: 0.1534 - val_accuracy: 0.9333\n",
      "Epoch 64/150\n",
      "3/3 - 0s - loss: 0.3123 - accuracy: 0.8391 - val_loss: 0.1498 - val_accuracy: 0.9333\n",
      "Epoch 65/150\n",
      "3/3 - 0s - loss: 0.2611 - accuracy: 0.8958 - val_loss: 0.1466 - val_accuracy: 0.9333\n",
      "Epoch 66/150\n",
      "3/3 - 0s - loss: 0.2453 - accuracy: 0.9080 - val_loss: 0.1423 - val_accuracy: 0.9333\n",
      "Epoch 67/150\n",
      "3/3 - 0s - loss: 0.3227 - accuracy: 0.8851 - val_loss: 0.1372 - val_accuracy: 1.0000\n",
      "Epoch 68/150\n",
      "3/3 - 0s - loss: 0.2302 - accuracy: 0.8966 - val_loss: 0.1323 - val_accuracy: 1.0000\n",
      "Epoch 69/150\n",
      "3/3 - 0s - loss: 0.2869 - accuracy: 0.8646 - val_loss: 0.1283 - val_accuracy: 1.0000\n",
      "Epoch 70/150\n",
      "3/3 - 0s - loss: 0.1960 - accuracy: 0.9770 - val_loss: 0.1246 - val_accuracy: 1.0000\n",
      "Epoch 71/150\n",
      "3/3 - 0s - loss: 0.2933 - accuracy: 0.8966 - val_loss: 0.1210 - val_accuracy: 1.0000\n",
      "Epoch 72/150\n",
      "3/3 - 0s - loss: 0.2273 - accuracy: 0.9310 - val_loss: 0.1172 - val_accuracy: 1.0000\n",
      "Epoch 73/150\n",
      "3/3 - 0s - loss: 0.2204 - accuracy: 0.9375 - val_loss: 0.1129 - val_accuracy: 1.0000\n",
      "Epoch 74/150\n",
      "3/3 - 0s - loss: 0.2314 - accuracy: 0.9425 - val_loss: 0.1081 - val_accuracy: 1.0000\n",
      "Epoch 75/150\n",
      "3/3 - 0s - loss: 0.2129 - accuracy: 0.9310 - val_loss: 0.1035 - val_accuracy: 1.0000\n",
      "Epoch 76/150\n",
      "3/3 - 0s - loss: 0.2211 - accuracy: 0.9425 - val_loss: 0.0998 - val_accuracy: 1.0000\n",
      "Epoch 77/150\n",
      "3/3 - 0s - loss: 0.2081 - accuracy: 0.9271 - val_loss: 0.0963 - val_accuracy: 1.0000\n",
      "Epoch 78/150\n",
      "3/3 - 0s - loss: 0.2242 - accuracy: 0.9195 - val_loss: 0.0930 - val_accuracy: 1.0000\n",
      "Epoch 79/150\n",
      "3/3 - 0s - loss: 0.2260 - accuracy: 0.9195 - val_loss: 0.0903 - val_accuracy: 1.0000\n",
      "Epoch 80/150\n",
      "3/3 - 0s - loss: 0.2057 - accuracy: 0.9425 - val_loss: 0.0877 - val_accuracy: 1.0000\n",
      "Epoch 81/150\n",
      "3/3 - 0s - loss: 0.1804 - accuracy: 0.9375 - val_loss: 0.0845 - val_accuracy: 1.0000\n",
      "Epoch 82/150\n",
      "3/3 - 0s - loss: 0.1797 - accuracy: 0.9655 - val_loss: 0.0814 - val_accuracy: 1.0000\n",
      "Epoch 83/150\n",
      "3/3 - 0s - loss: 0.1869 - accuracy: 0.9195 - val_loss: 0.0788 - val_accuracy: 1.0000\n",
      "Epoch 84/150\n",
      "3/3 - 0s - loss: 0.1586 - accuracy: 0.9885 - val_loss: 0.0764 - val_accuracy: 1.0000\n"
     ]
    },
    {
     "name": "stdout",
     "output_type": "stream",
     "text": [
      "Epoch 85/150\n",
      "3/3 - 0s - loss: 0.1875 - accuracy: 0.9583 - val_loss: 0.0742 - val_accuracy: 1.0000\n",
      "Epoch 86/150\n",
      "3/3 - 0s - loss: 0.2023 - accuracy: 0.9310 - val_loss: 0.0710 - val_accuracy: 1.0000\n",
      "Epoch 87/150\n",
      "3/3 - 0s - loss: 0.1429 - accuracy: 0.9655 - val_loss: 0.0681 - val_accuracy: 1.0000\n",
      "Epoch 88/150\n",
      "3/3 - 0s - loss: 0.2056 - accuracy: 0.9310 - val_loss: 0.0656 - val_accuracy: 1.0000\n",
      "Epoch 89/150\n",
      "3/3 - 0s - loss: 0.1813 - accuracy: 0.9479 - val_loss: 0.0632 - val_accuracy: 1.0000\n",
      "Epoch 90/150\n",
      "3/3 - 0s - loss: 0.1469 - accuracy: 0.9425 - val_loss: 0.0609 - val_accuracy: 1.0000\n",
      "Epoch 91/150\n",
      "3/3 - 0s - loss: 0.1549 - accuracy: 0.9540 - val_loss: 0.0584 - val_accuracy: 1.0000\n",
      "Epoch 92/150\n",
      "3/3 - 0s - loss: 0.1647 - accuracy: 0.9425 - val_loss: 0.0560 - val_accuracy: 1.0000\n",
      "Epoch 93/150\n",
      "3/3 - 0s - loss: 0.1608 - accuracy: 0.9688 - val_loss: 0.0543 - val_accuracy: 1.0000\n",
      "Epoch 94/150\n",
      "3/3 - 0s - loss: 0.1388 - accuracy: 0.9540 - val_loss: 0.0533 - val_accuracy: 1.0000\n",
      "Epoch 95/150\n",
      "3/3 - 0s - loss: 0.1694 - accuracy: 0.9425 - val_loss: 0.0520 - val_accuracy: 1.0000\n",
      "Epoch 96/150\n",
      "3/3 - 0s - loss: 0.1145 - accuracy: 0.9540 - val_loss: 0.0503 - val_accuracy: 1.0000\n",
      "Epoch 97/150\n",
      "3/3 - 0s - loss: 0.1317 - accuracy: 0.9688 - val_loss: 0.0493 - val_accuracy: 1.0000\n",
      "Epoch 98/150\n",
      "3/3 - 0s - loss: 0.1224 - accuracy: 0.9655 - val_loss: 0.0481 - val_accuracy: 1.0000\n",
      "Epoch 99/150\n",
      "3/3 - 0s - loss: 0.1280 - accuracy: 0.9770 - val_loss: 0.0466 - val_accuracy: 1.0000\n",
      "Epoch 100/150\n",
      "3/3 - 0s - loss: 0.1538 - accuracy: 0.9310 - val_loss: 0.0451 - val_accuracy: 1.0000\n",
      "Epoch 101/150\n",
      "3/3 - 0s - loss: 0.1058 - accuracy: 0.9688 - val_loss: 0.0439 - val_accuracy: 1.0000\n",
      "Epoch 102/150\n",
      "3/3 - 0s - loss: 0.1733 - accuracy: 0.9310 - val_loss: 0.0431 - val_accuracy: 1.0000\n",
      "Epoch 103/150\n",
      "3/3 - 0s - loss: 0.1154 - accuracy: 0.9655 - val_loss: 0.0421 - val_accuracy: 1.0000\n",
      "Epoch 104/150\n",
      "3/3 - 0s - loss: 0.1620 - accuracy: 0.9655 - val_loss: 0.0411 - val_accuracy: 1.0000\n",
      "Epoch 105/150\n",
      "3/3 - 0s - loss: 0.1304 - accuracy: 0.9583 - val_loss: 0.0398 - val_accuracy: 1.0000\n",
      "Epoch 106/150\n",
      "3/3 - 0s - loss: 0.1482 - accuracy: 0.9425 - val_loss: 0.0387 - val_accuracy: 1.0000\n",
      "Epoch 107/150\n",
      "3/3 - 0s - loss: 0.1007 - accuracy: 0.9885 - val_loss: 0.0378 - val_accuracy: 1.0000\n",
      "Epoch 108/150\n",
      "3/3 - 0s - loss: 0.1417 - accuracy: 0.9655 - val_loss: 0.0367 - val_accuracy: 1.0000\n",
      "Epoch 109/150\n",
      "3/3 - 0s - loss: 0.0796 - accuracy: 0.9896 - val_loss: 0.0357 - val_accuracy: 1.0000\n",
      "Epoch 110/150\n",
      "3/3 - 0s - loss: 0.1373 - accuracy: 0.9425 - val_loss: 0.0347 - val_accuracy: 1.0000\n",
      "Epoch 111/150\n",
      "3/3 - 0s - loss: 0.1314 - accuracy: 0.9540 - val_loss: 0.0340 - val_accuracy: 1.0000\n",
      "Epoch 112/150\n",
      "3/3 - 0s - loss: 0.1306 - accuracy: 0.9540 - val_loss: 0.0334 - val_accuracy: 1.0000\n",
      "Epoch 113/150\n",
      "3/3 - 0s - loss: 0.1216 - accuracy: 0.9479 - val_loss: 0.0333 - val_accuracy: 1.0000\n",
      "Epoch 114/150\n",
      "3/3 - 0s - loss: 0.1355 - accuracy: 0.9540 - val_loss: 0.0332 - val_accuracy: 1.0000\n",
      "Epoch 115/150\n",
      "3/3 - 0s - loss: 0.0983 - accuracy: 0.9655 - val_loss: 0.0323 - val_accuracy: 1.0000\n",
      "Epoch 116/150\n",
      "3/3 - 0s - loss: 0.1311 - accuracy: 0.9540 - val_loss: 0.0315 - val_accuracy: 1.0000\n",
      "Epoch 117/150\n",
      "3/3 - 0s - loss: 0.1041 - accuracy: 0.9688 - val_loss: 0.0311 - val_accuracy: 1.0000\n",
      "Epoch 118/150\n",
      "3/3 - 0s - loss: 0.1287 - accuracy: 0.9425 - val_loss: 0.0303 - val_accuracy: 1.0000\n",
      "Epoch 119/150\n",
      "3/3 - 0s - loss: 0.1275 - accuracy: 0.9425 - val_loss: 0.0297 - val_accuracy: 1.0000\n",
      "Epoch 120/150\n",
      "3/3 - 0s - loss: 0.0752 - accuracy: 1.0000 - val_loss: 0.0291 - val_accuracy: 1.0000\n",
      "Epoch 121/150\n",
      "3/3 - 0s - loss: 0.1145 - accuracy: 0.9583 - val_loss: 0.0287 - val_accuracy: 1.0000\n",
      "Epoch 122/150\n",
      "3/3 - 0s - loss: 0.1162 - accuracy: 0.9770 - val_loss: 0.0282 - val_accuracy: 1.0000\n",
      "Epoch 123/150\n",
      "3/3 - 0s - loss: 0.1468 - accuracy: 0.9540 - val_loss: 0.0276 - val_accuracy: 1.0000\n",
      "Epoch 124/150\n",
      "3/3 - 0s - loss: 0.1103 - accuracy: 0.9655 - val_loss: 0.0270 - val_accuracy: 1.0000\n",
      "Epoch 125/150\n",
      "3/3 - 0s - loss: 0.0889 - accuracy: 0.9688 - val_loss: 0.0266 - val_accuracy: 1.0000\n",
      "Epoch 126/150\n",
      "3/3 - 0s - loss: 0.1087 - accuracy: 0.9655 - val_loss: 0.0263 - val_accuracy: 1.0000\n",
      "Epoch 127/150\n",
      "3/3 - 0s - loss: 0.0976 - accuracy: 0.9655 - val_loss: 0.0259 - val_accuracy: 1.0000\n",
      "Epoch 128/150\n",
      "3/3 - 0s - loss: 0.1144 - accuracy: 0.9655 - val_loss: 0.0253 - val_accuracy: 1.0000\n",
      "Epoch 129/150\n",
      "3/3 - 0s - loss: 0.0944 - accuracy: 0.9792 - val_loss: 0.0246 - val_accuracy: 1.0000\n",
      "Epoch 130/150\n",
      "3/3 - 0s - loss: 0.1059 - accuracy: 0.9540 - val_loss: 0.0237 - val_accuracy: 1.0000\n",
      "Epoch 131/150\n",
      "3/3 - 0s - loss: 0.1271 - accuracy: 0.9540 - val_loss: 0.0235 - val_accuracy: 1.0000\n",
      "Epoch 132/150\n",
      "3/3 - 0s - loss: 0.1077 - accuracy: 0.9540 - val_loss: 0.0232 - val_accuracy: 1.0000\n",
      "Epoch 133/150\n",
      "3/3 - 0s - loss: 0.1130 - accuracy: 0.9688 - val_loss: 0.0228 - val_accuracy: 1.0000\n",
      "Epoch 134/150\n",
      "3/3 - 0s - loss: 0.0902 - accuracy: 0.9655 - val_loss: 0.0225 - val_accuracy: 1.0000\n",
      "Epoch 135/150\n",
      "3/3 - 0s - loss: 0.1097 - accuracy: 0.9655 - val_loss: 0.0222 - val_accuracy: 1.0000\n",
      "Epoch 136/150\n",
      "3/3 - 0s - loss: 0.0907 - accuracy: 0.9885 - val_loss: 0.0219 - val_accuracy: 1.0000\n",
      "Epoch 137/150\n",
      "3/3 - 0s - loss: 0.1147 - accuracy: 0.9792 - val_loss: 0.0217 - val_accuracy: 1.0000\n",
      "Epoch 138/150\n",
      "3/3 - 0s - loss: 0.0782 - accuracy: 0.9770 - val_loss: 0.0217 - val_accuracy: 1.0000\n",
      "Epoch 139/150\n",
      "3/3 - 0s - loss: 0.0909 - accuracy: 0.9425 - val_loss: 0.0214 - val_accuracy: 1.0000\n",
      "Epoch 140/150\n",
      "3/3 - 0s - loss: 0.1120 - accuracy: 0.9425 - val_loss: 0.0211 - val_accuracy: 1.0000\n",
      "Epoch 141/150\n",
      "3/3 - 0s - loss: 0.1300 - accuracy: 0.9688 - val_loss: 0.0208 - val_accuracy: 1.0000\n",
      "Epoch 142/150\n",
      "3/3 - 0s - loss: 0.0730 - accuracy: 0.9770 - val_loss: 0.0203 - val_accuracy: 1.0000\n",
      "Epoch 143/150\n",
      "3/3 - 0s - loss: 0.0806 - accuracy: 0.9770 - val_loss: 0.0200 - val_accuracy: 1.0000\n",
      "Epoch 144/150\n",
      "3/3 - 0s - loss: 0.1396 - accuracy: 0.9310 - val_loss: 0.0198 - val_accuracy: 1.0000\n",
      "Epoch 145/150\n",
      "3/3 - 0s - loss: 0.1070 - accuracy: 0.9688 - val_loss: 0.0197 - val_accuracy: 1.0000\n",
      "Epoch 146/150\n",
      "3/3 - 0s - loss: 0.1309 - accuracy: 0.9425 - val_loss: 0.0195 - val_accuracy: 1.0000\n",
      "Epoch 147/150\n",
      "3/3 - 0s - loss: 0.1164 - accuracy: 0.9655 - val_loss: 0.0192 - val_accuracy: 1.0000\n",
      "Epoch 148/150\n",
      "3/3 - 0s - loss: 0.0668 - accuracy: 1.0000 - val_loss: 0.0188 - val_accuracy: 1.0000\n",
      "Epoch 149/150\n",
      "3/3 - 0s - loss: 0.0970 - accuracy: 0.9688 - val_loss: 0.0184 - val_accuracy: 1.0000\n",
      "Epoch 150/150\n",
      "3/3 - 0s - loss: 0.0574 - accuracy: 1.0000 - val_loss: 0.0182 - val_accuracy: 1.0000\n"
     ]
    }
   ],
   "source": [
    "epochs = 150\n",
    "\n",
    "history = model.fit(\n",
    "    train_ds,\n",
    "    validation_data=val_ds,\n",
    "    steps_per_epoch = STEPS,\n",
    "    epochs = epochs,\n",
    "    verbose = 2\n",
    ")"
   ]
  },
  {
   "cell_type": "code",
   "execution_count": 17,
   "metadata": {},
   "outputs": [
    {
     "data": {
      "image/png": "[encoded data removed]",
      "text/plain": [
       "<Figure size 1008x432 with 2 Axes>"
      ]
     },
     "metadata": {
      "needs_background": "light"
     },
     "output_type": "display_data"
    }
   ],
   "source": [
    "acc = history.history['accuracy']\n",
    "val_acc = history.history['val_accuracy']\n",
    "\n",
    "loss = history.history['loss']\n",
    "val_loss = history.history['val_loss']\n",
    "\n",
    "epochs_range = range(epochs)\n",
    "\n",
    "plt.figure(figsize=(14,6))\n",
    "plt.subplot(1,2,1)\n",
    "plt.plot(epochs_range, loss, label = 'Training loss')\n",
    "plt.plot(epochs_range, val_loss, label = 'Validation loss')\n",
    "plt.legend()\n",
    "plt.grid()\n",
    "plt.title('Training and Validation Loss')\n",
    "\n",
    "plt.subplot(1,2,2)\n",
    "plt.plot(epochs_range, acc, label = 'Training Accuracy')\n",
    "plt.plot(epochs_range, val_acc, label = 'Validation Accuracy')\n",
    "plt.legend()\n",
    "plt.grid()\n",
    "plt.title('Training and Validation Accuracy')\n",
    "\n",
    "plt.show()"
   ]
  },
  {
   "cell_type": "markdown",
   "metadata": {},
   "source": [
    "## Evaluate and Predict"
   ]
  },
  {
   "cell_type": "code",
   "execution_count": 18,
   "metadata": {},
   "outputs": [
    {
     "name": "stdout",
     "output_type": "stream",
     "text": [
      "1/1 [==============================] - 0s 3ms/step - loss: 0.0324 - accuracy: 1.0000\n"
     ]
    },
    {
     "data": {
      "text/plain": [
       "[0.032375846058130264, 1.0]"
      ]
     },
     "execution_count": 18,
     "metadata": {},
     "output_type": "execute_result"
    }
   ],
   "source": [
    "model.evaluate(test_ds)"
   ]
  },
  {
   "cell_type": "code",
   "execution_count": 19,
   "metadata": {},
   "outputs": [],
   "source": [
    "predict_model = keras.Sequential([\n",
    "    model,\n",
    "    keras.layers.Softmax()\n",
    "])"
   ]
  },
  {
   "cell_type": "code",
   "execution_count": 20,
   "metadata": {},
   "outputs": [
    {
     "name": "stdout",
     "output_type": "stream",
     "text": [
      "Prediction: Class: Iris-versicolor, Probability: 98.90%\n",
      "Prediction: Class: Iris-versicolor, Probability: 85.83%\n",
      "Prediction: Class: Iris-setosa    , Probability: 99.99%\n",
      "Prediction: Class: Iris-virginica , Probability: 95.50%\n",
      "Prediction: Class: Iris-virginica , Probability: 90.64%\n",
      "Prediction: Class: Iris-setosa    , Probability: 100.00%\n",
      "Prediction: Class: Iris-virginica , Probability: 97.10%\n",
      "Prediction: Class: Iris-virginica , Probability: 99.46%\n",
      "Prediction: Class: Iris-setosa    , Probability: 100.00%\n",
      "Prediction: Class: Iris-setosa    , Probability: 99.99%\n",
      "Prediction: Class: Iris-setosa    , Probability: 99.99%\n",
      "Prediction: Class: Iris-virginica , Probability: 99.93%\n",
      "Prediction: Class: Iris-versicolor, Probability: 99.73%\n",
      "Prediction: Class: Iris-virginica , Probability: 99.73%\n",
      "Prediction: Class: Iris-versicolor, Probability: 94.08%\n"
     ]
    }
   ],
   "source": [
    "def predict(prediction):\n",
    "    for score in prediction:\n",
    "        class_idx = tf.argmax(score).numpy()\n",
    "        for key, value in LABELS.items():\n",
    "            if value == class_idx:\n",
    "                class_name = key\n",
    "        print('Prediction: Class: {:15s}, Probability: {:.2f}%'.format(class_name, max(score * 100)))\n",
    "        \n",
    "        \n",
    "prediction = predict_model.predict(test_ds)\n",
    "predict(prediction)"
   ]
  },
  {
   "cell_type": "code",
   "execution_count": 21,
   "metadata": {},
   "outputs": [
    {
     "name": "stdout",
     "output_type": "stream",
     "text": [
      "Prediction: Class: Iris-setosa    , Probability: 99.99%\n",
      "Prediction: Class: Iris-versicolor, Probability: 97.74%\n",
      "Prediction: Class: Iris-virginica , Probability: 97.75%\n"
     ]
    }
   ],
   "source": [
    "predict_dataset = tf.convert_to_tensor([\n",
    "    [5.1, 3.3, 1.7, 0.5,],\n",
    "    [5.9, 3.0, 4.2, 1.5,],\n",
    "    [6.9, 3.1, 5.4, 2.1]\n",
    "])\n",
    "\n",
    "p_ds = pd.DataFrame(predict_dataset.numpy())\n",
    "\n",
    "def convert_to_ds(p_ds):\n",
    "    p_desc = p_ds.describe()\n",
    "    mean = np.array([p_desc.T['mean']])\n",
    "    std = np.array([p_desc.T['std']])\n",
    "    for col in range(p_ds.shape[-1]):\n",
    "        p_ds[col] = (p_ds[col] - mean[0][col]) / std[0][col]\n",
    "    return p_ds\n",
    "    \n",
    "    \n",
    "p_ds = convert_to_ds(p_ds)\n",
    "predict(predict_model.predict(p_ds))"
   ]
  },
  {
   "cell_type": "code",
   "execution_count": null,
   "metadata": {},
   "outputs": [],
   "source": []
  }
 ],
 "metadata": {
  "kernelspec": {
   "display_name": "Python 3",
   "language": "python",
   "name": "python3"
  },
  "language_info": {
   "codemirror_mode": {
    "name": "ipython",
    "version": 3
   },
   "file_extension": ".py",
   "mimetype": "text/x-python",
   "name": "python",
   "nbconvert_exporter": "python",
   "pygments_lexer": "ipython3",
   "version": "3.8.3"
  }
 },
 "nbformat": 4,
 "nbformat_minor": 4
}
